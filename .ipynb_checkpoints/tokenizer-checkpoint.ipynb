{
 "cells": [
  {
   "cell_type": "markdown",
   "id": "0280541d-b324-451a-84dc-3962ec570cd4",
   "metadata": {},
   "source": [
    "# Tokenizer"
   ]
  },
  {
   "cell_type": "code",
   "execution_count": null,
   "id": "bdd79f78-6829-42b1-827b-fab1425be31b",
   "metadata": {},
   "outputs": [],
   "source": [
    "# Original code shown in the course at 18:00\n",
    "string_to_int = { ch:i for i,ch in enumerate(chars) }\n",
    "int_to_string = { i:ch for i,ch in enumerate(chars) }\n",
    "encode = lambda s: [string_to_int[c] for c in s]\n",
    "decode = lambda 1: \" \".join([int_to_string[i] for i in 1])"
   ]
  },
  {
   "cell_type": "markdown",
   "id": "af219619-5dcd-4b71-9bb4-15d7f49afd2f",
   "metadata": {},
   "source": [
    "The code below is based on the freecodecamp course video's code shown at 18:00 time stamp. (The cell above)\n",
    "\n",
    "This notebook explains its long, basic form, how it works and how it is refactored.\n",
    "\n",
    "The code extracts the raw content of the classical literature, \"Dorothy and the Wizard of Oz\" by Frank Baum. It then condenses the content into unique characters that appeared at least once in the book and assigns each with an integer value. This represents the text data as being tokenized on a character-level with each letter or character connected to a numerical value.\n",
    "\n",
    "The function, encoder will then take a string input from user and decode characters into their corresponding integer values. An ensuing function, decoder can then take the output from encoder and re-translate it back into the original string."
   ]
  },
  {
   "cell_type": "code",
   "execution_count": 3,
   "id": "416798c5-7ad2-4268-b46d-f08d09ff4a25",
   "metadata": {},
   "outputs": [
    {
     "name": "stdin",
     "output_type": "stream",
     "text": [
      "Provide a phrase to encode into token integers\n",
      ": >>> TOKENS\n"
     ]
    },
    {
     "name": "stdout",
     "output_type": "stream",
     "text": [
      "This is the encoded value as a list of integer tokens: \n",
      "[44, 39, 35, 29, 38, 43]\n",
      "This is the original text:\n",
      "T O K E N S\n"
     ]
    }
   ],
   "source": [
    "# Open book & save content to book variable.\n",
    "def tokenize():\n",
    "    with open(\"./wizardOfOz/pg22566_edited.txt\", \"r\", encoding=\"utf-8\") as f:\n",
    "        book = f.read()\n",
    "        f.close()\n",
    "    \n",
    "    # Identify unique characters that appeared at least once in the book.\n",
    "    chars = sorted(set(book))\n",
    "    \n",
    "    # Create the list of integer values corresponding to characters.\n",
    "    tokens = list(range(0, len(chars)))\n",
    "    \n",
    "    # Create a dictionary with characters as key, token as values.\n",
    "    string_to_int = dict(zip(chars, tokens))\n",
    "    \n",
    "    # Create a dictionary with tokens as keys, characters as values.\n",
    "    int_to_string = dict(zip(tokens, chars))\n",
    "\n",
    "    return string_to_int, int_to_string\n",
    "\n",
    "\n",
    "# Encoder function takes a string input from user, then returns its token equivalent as a list.\n",
    "def encoder(string_to_int):\n",
    "    phrase = list(input(\"Provide a phrase to encode into token integers\\n: >>>\"))\n",
    "    encoded = []\n",
    "    for character in phrase:\n",
    "        encoded.append(string_to_int[character])\n",
    "    print(\"This is the encoded value as a list of integer tokens: \")\n",
    "    print(encoded)\n",
    "    return encoded\n",
    "\n",
    "# Decoder function takes the token list output from encoder and returns the original text.\n",
    "def decoder(encoded):\n",
    "    decoded = []\n",
    "    for int in encoded:\n",
    "        decoded.append(int_to_string[int])\n",
    "    decoded = \" \".join(decoded)\n",
    "    print(\"This is the original text:\")\n",
    "    print(decoded)\n",
    "\n",
    "# To execute the script\n",
    "if __name__=='__main__':\n",
    "    tokenize()\n",
    "    tokenized_phrase = encoder(string_to_int)\n",
    "    decoder(tokenized_phrase)"
   ]
  },
  {
   "cell_type": "markdown",
   "id": "1a0a2b76-9fee-4e79-a102-92ecbf8797ea",
   "metadata": {},
   "source": [
    "## Code breakdown"
   ]
  },
  {
   "cell_type": "markdown",
   "id": "5fabf64a-27bc-4391-8a46-1f7803ca2f31",
   "metadata": {},
   "source": [
    "Open the book, \"Dorothy and the Wizard of Oz\" and store the contents inside a string variable, named book."
   ]
  },
  {
   "cell_type": "code",
   "execution_count": 9,
   "id": "11ef549d-94a6-417d-ba3f-8e3e617f35f9",
   "metadata": {},
   "outputs": [],
   "source": [
    "with open(\"./wizardOfOz/pg22566_edited.txt\", \"r\", encoding=\"utf-8\") as f:\n",
    "    # Store the book in a string variable, book.\n",
    "    book = f.read()\n",
    "    f.close()"
   ]
  },
  {
   "cell_type": "markdown",
   "id": "f54bacee-9ca8-4949-852d-df35d99f486f",
   "metadata": {},
   "source": [
    "Convert book from a big block of text into a set element, so that the book variable contains a list of unique characters, without duplicates. i.e. more than element for space \" \" even if there are a lot of spaces in the book.\n",
    "\n",
    "Since set() doesn't order the ouptut alphabetically by default, use sorted() to do so."
   ]
  },
  {
   "cell_type": "code",
   "execution_count": 15,
   "id": "b84a1b6e-9038-4722-9805-ba6f8b364f72",
   "metadata": {},
   "outputs": [
    {
     "name": "stdout",
     "output_type": "stream",
     "text": [
      "These are the characters that appeared at least once in Wizard of Oz.\n",
      "\n",
      "['\\n', ' ', '!', '\"', '&', \"'\", '(', ')', '*', ',', '-', '.', '0', '1', '2', '3', '4', '5', '6', '7', '8', '9', ':', ';', '?', 'A', 'B', 'C', 'D', 'E', 'F', 'G', 'H', 'I', 'J', 'K', 'L', 'M', 'N', 'O', 'P', 'Q', 'R', 'S', 'T', 'U', 'V', 'W', 'X', 'Y', 'Z', '[', ']', '_', 'a', 'b', 'c', 'd', 'e', 'f', 'g', 'h', 'i', 'j', 'k', 'l', 'm', 'n', 'o', 'p', 'q', 'r', 's', 't', 'u', 'v', 'w', 'x', 'y', 'z']\n",
      "\n",
      "There are 80 characters that appeared at least once in Wizard of Oz.\n"
     ]
    }
   ],
   "source": [
    "chars = sorted(set(book))\n",
    "\n",
    "print(\"These are the characters that appeared at least once in Wizard of Oz.\\n\")\n",
    "\n",
    "print(chars)\n",
    "\n",
    "print(f\"\\nThere are {len(chars)} characters that appeared at least once in Wizard of Oz.\")"
   ]
  },
  {
   "cell_type": "markdown",
   "id": "0faf8a54-da03-4b41-981f-ca029bd29791",
   "metadata": {},
   "source": [
    "Create a list of equal length containing integer values corresponding to each character."
   ]
  },
  {
   "cell_type": "code",
   "execution_count": 4,
   "id": "a8e13cf3-4d43-4174-a701-959e8eab6a09",
   "metadata": {},
   "outputs": [
    {
     "name": "stdout",
     "output_type": "stream",
     "text": [
      "This is the list of tokens corresponding to the chars list.\n",
      "[0, 1, 2, 3, 4, 5, 6, 7, 8, 9, 10, 11, 12, 13, 14, 15, 16, 17, 18, 19, 20, 21, 22, 23, 24, 25, 26, 27, 28, 29, 30, 31, 32, 33, 34, 35, 36, 37, 38, 39, 40, 41, 42, 43, 44, 45, 46, 47, 48, 49, 50, 51, 52, 53, 54, 55, 56, 57, 58, 59, 60, 61, 62, 63, 64, 65, 66, 67, 68, 69, 70, 71, 72, 73, 74, 75, 76, 77, 78, 79]\n"
     ]
    }
   ],
   "source": [
    "# Create the list of integer values corresponding to characters.\n",
    "tokens = list(range(0, len(chars)))\n",
    "\n",
    "print(\"This is the list of tokens corresponding to the chars list.\")\n",
    "\n",
    "print(tokens)"
   ]
  },
  {
   "cell_type": "markdown",
   "id": "56a4668f-7ff9-448c-8f92-4158c473287f",
   "metadata": {},
   "source": [
    "The first character's token value is 0.\n",
    "\n",
    "The last character's token value is the length of characters list.\n",
    "Remember that although range(x, y) excludes y, the 0 index means the list length is still the same.\n",
    "\n",
    "The range function also won't return the list from 0 to n, unless it's converted to a list."
   ]
  },
  {
   "cell_type": "markdown",
   "id": "800e693c-5495-4bb0-bf43-710a6605b2a8",
   "metadata": {},
   "source": [
    "Next, create 2 dictionaries, for encoder and decoder respectively. Note that zip creates a tuple-like function object from 2 lists of equal length. It is required for dict() to work on the 2 lists."
   ]
  },
  {
   "cell_type": "code",
   "execution_count": 6,
   "id": "7b6377f2-a4a2-42f8-9349-0fd193724e69",
   "metadata": {},
   "outputs": [],
   "source": [
    "# Create a dictionary with characters as key, token as values. For encoder.\n",
    "string_to_int = dict(zip(chars, tokens))\n",
    "\n",
    "# Create a dictionary with tokens as keys, characters as values. For decoder.\n",
    "int_to_string = dict(zip(tokens, chars))"
   ]
  },
  {
   "cell_type": "markdown",
   "id": "3e19f246-730e-489f-9064-6c1f4bdd3e85",
   "metadata": {},
   "source": [
    "Next, the encoder function takes user input and returns the decoded string as a list with each element being the integer corresponding to a character."
   ]
  },
  {
   "cell_type": "code",
   "execution_count": 9,
   "id": "619cb28c-b760-49ec-8064-00d58c8cec6a",
   "metadata": {},
   "outputs": [
    {
     "name": "stdin",
     "output_type": "stream",
     "text": [
      "Provide a phrase to encode into token integers\n",
      ": >>> ENCODE\n"
     ]
    },
    {
     "name": "stdout",
     "output_type": "stream",
     "text": [
      "This is the encoded value as a list of integer tokens: \n",
      "[29, 38, 27, 39, 28, 29]\n"
     ]
    }
   ],
   "source": [
    "# code in encoder()\n",
    "phrase = list(input(\"Provide a phrase to encode into token integers\\n: >>>\"))\n",
    "encoded = []\n",
    "for character in phrase:\n",
    "    encoded.append(string_to_int[character])\n",
    "print(\"This is the encoded value as a list of integer tokens: \")\n",
    "print(encoded)"
   ]
  },
  {
   "cell_type": "markdown",
   "id": "9f5a1a15-db40-4d07-a3c5-5a9674424967",
   "metadata": {},
   "source": [
    "The output of encoder() is then captured through return and sent to decoder() as a parameter.\n",
    "\n",
    "The .join() method takes every element in the list, encoded and returns them as a string with a space separating each element."
   ]
  },
  {
   "cell_type": "code",
   "execution_count": 10,
   "id": "bb17460b-9aca-42f4-9a38-e077faddecb1",
   "metadata": {},
   "outputs": [
    {
     "name": "stdout",
     "output_type": "stream",
     "text": [
      "This is the original text:\n",
      "E N C O D E\n"
     ]
    }
   ],
   "source": [
    "decoded = []\n",
    "for int in encoded:\n",
    "    decoded.append(int_to_string[int])\n",
    "decoded = \" \".join(decoded)\n",
    "print(\"This is the original text:\")\n",
    "print(decoded)"
   ]
  },
  {
   "cell_type": "markdown",
   "id": "191e4533-ee87-4f7a-8a49-a7a0c9ac8fc6",
   "metadata": {},
   "source": [
    "## Code Refactoring"
   ]
  },
  {
   "cell_type": "code",
   "execution_count": null,
   "id": "5fe11c84-bc5c-412c-89fd-df545844d55b",
   "metadata": {},
   "outputs": [],
   "source": []
  }
 ],
 "metadata": {
  "kernelspec": {
   "display_name": "cuda",
   "language": "python",
   "name": "myllmproject"
  },
  "language_info": {
   "codemirror_mode": {
    "name": "ipython",
    "version": 3
   },
   "file_extension": ".py",
   "mimetype": "text/x-python",
   "name": "python",
   "nbconvert_exporter": "python",
   "pygments_lexer": "ipython3",
   "version": "3.10.12"
  }
 },
 "nbformat": 4,
 "nbformat_minor": 5
}
