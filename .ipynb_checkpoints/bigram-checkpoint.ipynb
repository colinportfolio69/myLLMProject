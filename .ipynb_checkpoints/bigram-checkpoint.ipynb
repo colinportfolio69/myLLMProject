{
 "cells": [
  {
   "cell_type": "markdown",
   "id": "0280541d-b324-451a-84dc-3962ec570cd4",
   "metadata": {},
   "source": [
    "# Training a bigram model using 'Dorothy and the Wizard of Oz' by Frank Baum."
   ]
  },
  {
   "cell_type": "markdown",
   "id": "5fabf64a-27bc-4391-8a46-1f7803ca2f31",
   "metadata": {},
   "source": [
    "Open the book and store the contents in a variable, named book."
   ]
  },
  {
   "cell_type": "code",
   "execution_count": 4,
   "id": "11ef549d-94a6-417d-ba3f-8e3e617f35f9",
   "metadata": {},
   "outputs": [],
   "source": [
    "with open(\"./wizardOfOz/pg22566_edited.txt\", \"r\", encoding=\"utf-8\") as f:\n",
    "    # Store the book in a string variable, book.\n",
    "    book = f.read()"
   ]
  },
  {
   "cell_type": "markdown",
   "id": "87393296-8166-404c-b86a-b1e5bd16c2e5",
   "metadata": {},
   "source": [
    "In python, sorted() function returns an iterable element back as an ordered **list**.\n",
    "For strings, they are sorted alphabetically, by default."
   ]
  },
  {
   "cell_type": "code",
   "execution_count": 6,
   "id": "c814b689-be6f-46a2-9185-4caecb6e7372",
   "metadata": {},
   "outputs": [
    {
     "data": {
      "text/plain": [
       "['a', 'b', 'c']"
      ]
     },
     "execution_count": 6,
     "metadata": {},
     "output_type": "execute_result"
    }
   ],
   "source": [
    "string = \"cba\"\n",
    "\n",
    "sorted(string)"
   ]
  },
  {
   "cell_type": "markdown",
   "id": "b5a864e3-7e7b-4692-a537-387332886e40",
   "metadata": {},
   "source": [
    "set() function creates a set object from iterable elements. \n",
    "\n",
    "If the iterable happens to be a string, a set of the individual characters will be created."
   ]
  },
  {
   "cell_type": "code",
   "execution_count": 11,
   "id": "d295895f-2f3f-4c5c-abbe-0c2a05305ac8",
   "metadata": {},
   "outputs": [
    {
     "data": {
      "text/plain": [
       "{'e', 'h', 'l', 'o'}"
      ]
     },
     "execution_count": 11,
     "metadata": {},
     "output_type": "execute_result"
    }
   ],
   "source": [
    "set(\"hello\") # notice that the set will not alphabetically order the characters."
   ]
  },
  {
   "cell_type": "markdown",
   "id": "e691ef84-2cb8-4d8b-ab5b-b5ef6252f3d7",
   "metadata": {},
   "source": [
    "## Tokenizers"
   ]
  },
  {
   "cell_type": "markdown",
   "id": "1b2aec26-fcc2-408e-b839-a6779e15b4b4",
   "metadata": {},
   "source": [
    "Language models work most optimally when text inputs can be broken down into basic units, called tokens. For this simple bigram, the tokens can be the individual letters of words."
   ]
  },
  {
   "cell_type": "markdown",
   "id": "1d9b1fa9-1415-4c92-a5a2-718d113e875c",
   "metadata": {},
   "source": [
    "Hence convert the book's content from strings into a set of characters sorted in alphabetical order. Save the set in a variable named chars."
   ]
  },
  {
   "cell_type": "code",
   "execution_count": 14,
   "id": "1bff8b68-308e-4d02-8200-0307e0a6a4b0",
   "metadata": {},
   "outputs": [],
   "source": [
    "chars = sorted(set(book))"
   ]
  },
  {
   "cell_type": "code",
   "execution_count": 17,
   "id": "4ecd8d08-b61c-4904-b9ce-a579858440cd",
   "metadata": {},
   "outputs": [
    {
     "name": "stdout",
     "output_type": "stream",
     "text": [
      "['\\n', ' ', '!', '\"', '&', \"'\", '(', ')', '*', ',', '-', '.', '0', '1', '2', '3', '4', '5', '6', '7', '8', '9', ':', ';', '?', 'A', 'B', 'C', 'D', 'E', 'F', 'G', 'H', 'I', 'J', 'K', 'L', 'M', 'N', 'O', 'P', 'Q', 'R', 'S', 'T', 'U', 'V', 'W', 'X', 'Y', 'Z', '[', ']', '_', 'a', 'b', 'c', 'd', 'e', 'f', 'g', 'h', 'i', 'j', 'k', 'l', 'm', 'n', 'o', 'p', 'q', 'r', 's', 't', 'u', 'v', 'w', 'x', 'y', 'z']\n"
     ]
    }
   ],
   "source": [
    "print(chars) #chars will be a list element as an effect of the sorted() function."
   ]
  },
  {
   "cell_type": "markdown",
   "id": "3d5da3c9-5905-4040-a530-61f0bafe9f59",
   "metadata": {},
   "source": [
    "How many types of character are there in \"Dorothy and the Wizard of Oz?\""
   ]
  },
  {
   "cell_type": "code",
   "execution_count": 18,
   "id": "6a529668-8343-4caf-8811-33ce04af957a",
   "metadata": {},
   "outputs": [
    {
     "name": "stdout",
     "output_type": "stream",
     "text": [
      "80\n"
     ]
    }
   ],
   "source": [
    "print(len(chars))"
   ]
  },
  {
   "cell_type": "markdown",
   "id": "b98d043d-e5ef-4c6b-8225-ad2ecb87b61b",
   "metadata": {},
   "source": [
    "### Encoders & Decoders"
   ]
  },
  {
   "cell_type": "markdown",
   "id": "af219619-5dcd-4b71-9bb4-15d7f49afd2f",
   "metadata": {},
   "source": [
    "The purpose of encoders is to create embeddings which are numerical representation of the meaning of tokens. In this case, the encoder will take each character and convert it into an integer as a measure of its meaning."
   ]
  },
  {
   "cell_type": "code",
   "execution_count": 24,
   "id": "15181778-b67f-4a3d-b5d1-dab98e03b0d1",
   "metadata": {},
   "outputs": [],
   "source": [
    "def encoder():\n",
    "    tokens = []\n",
    "    meaning = -1\n",
    "    for i in chars:\n",
    "        meaning += 1\n",
    "        tokens.append(meaning)\n",
    "    print(tokens)"
   ]
  },
  {
   "cell_type": "code",
   "execution_count": 25,
   "id": "586d9566-922a-4e5d-a8a1-b1d30b98f337",
   "metadata": {},
   "outputs": [
    {
     "name": "stdout",
     "output_type": "stream",
     "text": [
      "[0, 1, 2, 3, 4, 5, 6, 7, 8, 9, 10, 11, 12, 13, 14, 15, 16, 17, 18, 19, 20, 21, 22, 23, 24, 25, 26, 27, 28, 29, 30, 31, 32, 33, 34, 35, 36, 37, 38, 39, 40, 41, 42, 43, 44, 45, 46, 47, 48, 49, 50, 51, 52, 53, 54, 55, 56, 57, 58, 59, 60, 61, 62, 63, 64, 65, 66, 67, 68, 69, 70, 71, 72, 73, 74, 75, 76, 77, 78, 79]\n"
     ]
    }
   ],
   "source": [
    "encoder()"
   ]
  },
  {
   "cell_type": "code",
   "execution_count": null,
   "id": "d1c7c0e2-1252-4027-9776-85480da5a908",
   "metadata": {},
   "outputs": [],
   "source": []
  }
 ],
 "metadata": {
  "kernelspec": {
   "display_name": "cuda",
   "language": "python",
   "name": "myllmproject"
  },
  "language_info": {
   "codemirror_mode": {
    "name": "ipython",
    "version": 3
   },
   "file_extension": ".py",
   "mimetype": "text/x-python",
   "name": "python",
   "nbconvert_exporter": "python",
   "pygments_lexer": "ipython3",
   "version": "3.10.12"
  }
 },
 "nbformat": 4,
 "nbformat_minor": 5
}
