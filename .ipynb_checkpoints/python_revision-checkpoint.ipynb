{
 "cells": [
  {
   "cell_type": "markdown",
   "id": "4f41aa15-5061-43d5-a106-5f59e445809e",
   "metadata": {},
   "source": [
    "# Basic revisions"
   ]
  },
  {
   "cell_type": "code",
   "execution_count": null,
   "id": "ec014bd9-a7ac-4f2d-9092-5493f6701866",
   "metadata": {},
   "outputs": [],
   "source": []
  },
  {
   "cell_type": "markdown",
   "id": "e502e60e-3139-4999-b9f4-7277d8b8d46e",
   "metadata": {},
   "source": [
    "## sorted()"
   ]
  },
  {
   "cell_type": "markdown",
   "id": "87393296-8166-404c-b86a-b1e5bd16c2e5",
   "metadata": {},
   "source": [
    "In python, **sorted()** function returns an iterable element back as an ordered **list**.\n",
    "\n",
    "For strings, its defualt effect is to sort alphabetically.\n",
    "\n",
    "Remember that in python, **set only contains unique elements**, which suits the purpose of counting unique characters in a book nicely."
   ]
  },
  {
   "cell_type": "code",
   "execution_count": 3,
   "id": "c814b689-be6f-46a2-9185-4caecb6e7372",
   "metadata": {},
   "outputs": [
    {
     "data": {
      "text/plain": [
       "['a', 'b', 'c']"
      ]
     },
     "execution_count": 3,
     "metadata": {},
     "output_type": "execute_result"
    }
   ],
   "source": [
    "string = \"cba\"\n",
    "\n",
    "sorted(string)"
   ]
  },
  {
   "cell_type": "markdown",
   "id": "b4feaa85-6530-432f-bca8-d1a1324c9d60",
   "metadata": {},
   "source": [
    "## set()"
   ]
  },
  {
   "cell_type": "markdown",
   "id": "b5a864e3-7e7b-4692-a537-387332886e40",
   "metadata": {},
   "source": [
    "The **set()** function creates a set object from iterable elements. \n",
    "\n",
    "If the iterable happens to be a string, a set of the individual characters will be created.\n",
    "\n",
    "Notice that set() will not alphabetically order the result, nor retain duplicates elements."
   ]
  },
  {
   "cell_type": "code",
   "execution_count": 40,
   "id": "d295895f-2f3f-4c5c-abbe-0c2a05305ac8",
   "metadata": {},
   "outputs": [
    {
     "data": {
      "text/plain": [
       "{'a', 'e', 'l', 'p'}"
      ]
     },
     "execution_count": 40,
     "metadata": {},
     "output_type": "execute_result"
    }
   ],
   "source": [
    "set(\"apple\")"
   ]
  },
  {
   "cell_type": "markdown",
   "id": "6416abb2-9e37-44f8-99eb-6f5dc083e4c9",
   "metadata": {},
   "source": [
    "## zip()"
   ]
  },
  {
   "cell_type": "markdown",
   "id": "39b0f8be-1c7e-4d6a-ad28-59574a6b4644",
   "metadata": {},
   "source": [
    "The zip() function in python can combine 2 lists into a zip object. \n",
    "\n",
    "Elements from corresponding positions are then paired together. Hence this trick works when both lists are equal in length.\n",
    "\n",
    "zip() can also work on other iterables than lists."
   ]
  },
  {
   "cell_type": "code",
   "execution_count": 10,
   "id": "13886637-19d8-454b-aaaf-08da9bc933ab",
   "metadata": {},
   "outputs": [
    {
     "name": "stdout",
     "output_type": "stream",
     "text": [
      "<class 'zip'>\n"
     ]
    }
   ],
   "source": [
    "listA = [1, 2, 3]\n",
    "listB = [\"a\", \"b\", \"c\"]\n",
    "\n",
    "# Zip object\n",
    "zipC = zip(listA, listB)\n",
    "print(type(zipC))"
   ]
  },
  {
   "cell_type": "markdown",
   "id": "59a609d2-4aac-40f5-9b6f-da81663c389a",
   "metadata": {},
   "source": [
    "Zip objects can be displayed visibly after converting into a tuple."
   ]
  },
  {
   "cell_type": "code",
   "execution_count": 11,
   "id": "d353abd8-8b26-4e34-9883-15f36403ee1d",
   "metadata": {},
   "outputs": [
    {
     "data": {
      "text/plain": [
       "((1, 'a'), (2, 'b'), (3, 'c'))"
      ]
     },
     "execution_count": 11,
     "metadata": {},
     "output_type": "execute_result"
    }
   ],
   "source": [
    "tuple(zipC)"
   ]
  },
  {
   "cell_type": "markdown",
   "id": "bfd66c59-c791-4be0-bb66-8c3b69e85bea",
   "metadata": {},
   "source": [
    "### .items()"
   ]
  },
  {
   "cell_type": "markdown",
   "id": "8591af97-85a7-46cf-a7ba-65da487f256f",
   "metadata": {},
   "source": [
    ".items() method returns all key value pairs from dictionary."
   ]
  },
  {
   "cell_type": "code",
   "execution_count": 51,
   "id": "11ee9a77-aeb8-4c6b-ba0a-0609df73db52",
   "metadata": {},
   "outputs": [
    {
     "data": {
      "text/plain": [
       "dict_items([('mocha', 2), ('cappucino', 3)])"
      ]
     },
     "execution_count": 51,
     "metadata": {},
     "output_type": "execute_result"
    }
   ],
   "source": [
    "coffeedict = {\n",
    "    \"mocha\":2,\n",
    "    \"cappucino\":3\n",
    "}\n",
    "\n",
    "# To return all the key values from dictionary.\n",
    "coffeedict.items()"
   ]
  },
  {
   "cell_type": "markdown",
   "id": "1eaeed56-c438-4bb9-ba73-40ee9abfb6f7",
   "metadata": {},
   "source": [
    "## List comprehension"
   ]
  },
  {
   "cell_type": "markdown",
   "id": "fa2b119d-b2fb-4707-9c42-42510f06d6b8",
   "metadata": {},
   "source": [
    "List comprehensions shortens the syntax for for loops. Its 2 common applications being:\n",
    "\n",
    " - Create a new list from existing list.\n",
    " - Create a sublist from existing lists, where elements satisfy a certain condition."
   ]
  },
  {
   "cell_type": "code",
   "execution_count": 6,
   "id": "60e58ad7-f0ca-4f54-886b-3e7e0f282a97",
   "metadata": {},
   "outputs": [
    {
     "name": "stdout",
     "output_type": "stream",
     "text": [
      "[1, 4, 9, 16, 25]\n"
     ]
    }
   ],
   "source": [
    "# classic for loop\n",
    "\n",
    "squares = []\n",
    "\n",
    "# Create a list of square numbers from a list of 1-5.\n",
    "for number in range(1, 6):\n",
    "    squares.append(number**2)\n",
    "\n",
    "print(squares)"
   ]
  },
  {
   "cell_type": "markdown",
   "id": "90caf796-fd95-4796-acca-b91cedab08cd",
   "metadata": {},
   "source": [
    "The syntax for list comprehension in python is the following:"
   ]
  },
  {
   "cell_type": "raw",
   "id": "90d613f6-55ae-4777-abeb-2a9854d04ba8",
   "metadata": {},
   "source": [
    "<newList> = [ (expression) for <item> in <iterable> if >expression == True>]"
   ]
  },
  {
   "cell_type": "code",
   "execution_count": 10,
   "id": "3e79f65a-53dd-49dc-8607-e863a5d94765",
   "metadata": {},
   "outputs": [
    {
     "name": "stdout",
     "output_type": "stream",
     "text": [
      "[1, 4, 9, 16, 25]\n"
     ]
    }
   ],
   "source": [
    "# same for loop shortened by comprehension\n",
    "\n",
    "square_numbers = [(number**2) for number in range(1, 6)]\n",
    "\n",
    "print(square_numbers)"
   ]
  },
  {
   "cell_type": "markdown",
   "id": "a6a2023d-770a-437b-b54f-a43f28a69121",
   "metadata": {},
   "source": [
    "Comprehensions also provides a shorthand for adding a conditional to a for loop. Much like the 'WHERE' clause in SQL. "
   ]
  },
  {
   "cell_type": "code",
   "execution_count": 12,
   "id": "2dfe09f2-df8b-49ca-9666-d183adfa4090",
   "metadata": {},
   "outputs": [
    {
     "name": "stdout",
     "output_type": "stream",
     "text": [
      "[1, 3, 5, 7, 9]\n"
     ]
    }
   ],
   "source": [
    "# For a list of numbers in the ranges of 1-10, compile a list of odd numbers only.\n",
    "\n",
    "selection = [1, 2, 3, 4, 5, 6, 7, 8, 9, 10]\n",
    "odd = []\n",
    "\n",
    "for number in selection:\n",
    "    if number % 2 != 0:\n",
    "        odd.append(number)\n",
    "\n",
    "print(odd)"
   ]
  },
  {
   "cell_type": "code",
   "execution_count": 18,
   "id": "12a5427c-8a8d-451d-8f8d-bb0a28b85d0e",
   "metadata": {},
   "outputs": [
    {
     "name": "stdout",
     "output_type": "stream",
     "text": [
      "[1, 3, 5, 7, 9]\n"
     ]
    }
   ],
   "source": [
    "# Refactor the above code using list comprehension.\n",
    "\n",
    "odd_numbers = [number for number in selection if number % 2 != 0]\n",
    "\n",
    "print(odd)"
   ]
  },
  {
   "cell_type": "code",
   "execution_count": 19,
   "id": "be116f6f-a9db-41f0-ae28-093903b3995d",
   "metadata": {},
   "outputs": [
    {
     "name": "stdout",
     "output_type": "stream",
     "text": [
      "[50, 60, 70, 80, 110]\n"
     ]
    }
   ],
   "source": [
    "lst1 = [44, 54, 64, 74, 104]\n",
    "\n",
    "# Create list 2 by adding 6 to each element from list 1.\n",
    "\n",
    "lst2 = []\n",
    "for i in lst1:\n",
    "    lst2.append(i + 6)\n",
    "\n",
    "print(lst2)"
   ]
  },
  {
   "cell_type": "code",
   "execution_count": 21,
   "id": "c93fab41-026e-46ef-88db-8a6a17460d8d",
   "metadata": {},
   "outputs": [
    {
     "name": "stdout",
     "output_type": "stream",
     "text": [
      "[50, 60, 70, 80, 110]\n"
     ]
    }
   ],
   "source": [
    "# Refactor with comprehension\n",
    "\n",
    "lstII = [ number + 6 for number in lst1]\n",
    "print(lstII)"
   ]
  },
  {
   "cell_type": "markdown",
   "id": "53d03d9e-e039-43de-9e96-28796cb1a3c4",
   "metadata": {},
   "source": [
    "## Dictionary comprehension"
   ]
  },
  {
   "cell_type": "markdown",
   "id": "c9934fa6-674a-4c3e-9f36-e50bc6910271",
   "metadata": {},
   "source": [
    "Comprehension also works on dictionaries because they're iterables too. The 2 common applications are also:\n",
    "\n",
    " - Create a new dictionary from existing iterables.\n",
    " - Create a subset of a dictionary where elements meet existing conditions."
   ]
  },
  {
   "cell_type": "markdown",
   "id": "9424e270-5456-4892-835a-921646d6d07a",
   "metadata": {},
   "source": [
    "The syntax for creating a new dictionary from existing iterables is as follows."
   ]
  },
  {
   "cell_type": "raw",
   "id": "6b9f0876-e47a-4750-929e-71aeed22dd91",
   "metadata": {},
   "source": [
    "newDict = { <newKey>:<new_value> for <item> in <iterable> }"
   ]
  },
  {
   "cell_type": "markdown",
   "id": "2dd8a0bc-94af-4dbb-be9f-32866e5a4fac",
   "metadata": {},
   "source": [
    "The syntax for creating a subset of a existing dictionary, where elements meet existing conditions is as follows:"
   ]
  },
  {
   "cell_type": "raw",
   "id": "74af2d17-5fbe-42ae-9eb2-98897fee78d5",
   "metadata": {},
   "source": [
    "subDict = { <newkey>:<oldkey> for (key, value) in <dict>.items() if <conditions> }"
   ]
  },
  {
   "cell_type": "markdown",
   "id": "ef4d252d-183f-41c6-a70e-d8a21892ac6a",
   "metadata": {},
   "source": [
    "Create a dictionary where the day of the week is the key, its recorded temperature is the value."
   ]
  },
  {
   "cell_type": "code",
   "execution_count": 23,
   "id": "05b59f7d-690e-4e40-82d1-7f99e27e0db6",
   "metadata": {},
   "outputs": [],
   "source": [
    "days = [\"Monday\", \"Tuesday\", \"Wednesday\", \"Thursday\", \"Friday\"]\n",
    "\n",
    "recotemp = [21, 22, 21, 19, 22]"
   ]
  },
  {
   "cell_type": "code",
   "execution_count": 25,
   "id": "f7e52185-59e7-4b2b-8323-9301bcdacc63",
   "metadata": {},
   "outputs": [
    {
     "name": "stdout",
     "output_type": "stream",
     "text": [
      "{'Monday': 21, 'Tuesday': 22, 'Wednesday': 21, 'Thursday': 19, 'Friday': 22}\n"
     ]
    }
   ],
   "source": [
    "# Using zip to create a tuple, then convert tuple into dictionary.\n",
    "\n",
    "weektemp = zip(days, recotemp)\n",
    "\n",
    "weektemp = dict(weektemp)\n",
    "\n",
    "print(weektemp)"
   ]
  },
  {
   "cell_type": "code",
   "execution_count": 27,
   "id": "bad00d88-15d6-4d46-a3d8-c3302566939d",
   "metadata": {},
   "outputs": [
    {
     "name": "stdout",
     "output_type": "stream",
     "text": [
      "{'Monday': 21, 'Tuesday': 22, 'Wednesday': 21, 'Thursday': 19, 'Friday': 22}\n"
     ]
    }
   ],
   "source": [
    "# Refactor above into a single line of code with comprehensions\n",
    "\n",
    "temp_of_week = { day:temp for (day,temp) in zip(days, recotemp) }\n",
    "\n",
    "print(temp_of_week)"
   ]
  },
  {
   "cell_type": "markdown",
   "id": "c93e789d-d0ba-45fd-8725-85349c0eeca2",
   "metadata": {},
   "source": [
    "There are 3 people in a room. Each person rolls a dice and gets a score between 1-6. Create a dictionary based on this."
   ]
  },
  {
   "cell_type": "code",
   "execution_count": 47,
   "id": "5f9083f4-19e9-44e5-ba7a-2ba6dbe865f6",
   "metadata": {},
   "outputs": [
    {
     "name": "stdout",
     "output_type": "stream",
     "text": [
      "{'Alice': 6, 'Bob': 4, 'Carole': 1}\n"
     ]
    }
   ],
   "source": [
    "from random import randint\n",
    "\n",
    "people = [\"Alice\", \"Bob\", \"Carole\"]\n",
    "\n",
    "assignment = {}\n",
    "for person in people:\n",
    "    # Remember that the last element is not excluded with randint function!\n",
    "    assignment[person] = dice\n",
    "\n",
    "print(assignment)"
   ]
  },
  {
   "cell_type": "code",
   "execution_count": 48,
   "id": "9a93178f-a112-4a20-b51f-1854d93de45d",
   "metadata": {},
   "outputs": [
    {
     "name": "stdout",
     "output_type": "stream",
     "text": [
      "{'Alice': 1, 'Bob': 2, 'Carole': 5}\n"
     ]
    }
   ],
   "source": [
    "# Refactor the above using comprehension.\n",
    "\n",
    "assign = { person:rd(1,6) for person in people }\n",
    "print(assign)"
   ]
  },
  {
   "cell_type": "markdown",
   "id": "270c2bfb-a371-4e60-9ef0-9c5f83ac017f",
   "metadata": {},
   "source": [
    "There is a queue of people for a rollercoaster ride. The legal age limit for the ride is 15. Create a subset dictionary that excludes underaged people."
   ]
  },
  {
   "cell_type": "code",
   "execution_count": 52,
   "id": "792f9871-edcc-4d7a-a815-411a8ebf6e82",
   "metadata": {},
   "outputs": [
    {
     "name": "stdout",
     "output_type": "stream",
     "text": [
      "{'Hannah': 19, 'Beth': 21, 'Josh': 17}\n"
     ]
    }
   ],
   "source": [
    "queue = {\n",
    "    \"Hannah\":19,\n",
    "    \"Beth\": 21,\n",
    "    \"Josh\": 17,\n",
    "    \"Sam\": 6,\n",
    "    \"Kyouko\": 14\n",
    "}\n",
    "\n",
    "# classic for loop\n",
    "\n",
    "legal_queue = {}\n",
    "age_limit = 15\n",
    "\n",
    "for key, value in queue.items():\n",
    "    if value >= age_limit:\n",
    "        legal_queue[key] = value\n",
    "\n",
    "print(legal_queue)"
   ]
  },
  {
   "cell_type": "code",
   "execution_count": 53,
   "id": "29f92db3-0eb2-49a7-9147-5ced497f2db6",
   "metadata": {},
   "outputs": [
    {
     "name": "stdout",
     "output_type": "stream",
     "text": [
      "{'Hannah': 19, 'Beth': 21, 'Josh': 17}\n"
     ]
    }
   ],
   "source": [
    "# Refactor with comprehension\n",
    "\n",
    "legalQueue = { person:age for (person, age) in queue.items() if age >= 15 }\n",
    "print(legalQueue)"
   ]
  },
  {
   "cell_type": "markdown",
   "id": "fe20d75d-970c-4475-90ce-2e768aeed283",
   "metadata": {},
   "source": [
    "## Lambda functions"
   ]
  },
  {
   "cell_type": "markdown",
   "id": "6193b130-4977-4d9d-b8c5-d0f8ce25a053",
   "metadata": {},
   "source": [
    "In python, functions can be defined without a name. These are known as anonymous functions.\n",
    "\n",
    "Lambda functions are a type of anonymous functions that takes any number of parameters as input, but returns one output.\n",
    "\n",
    "Unlike normal functions that displays results to screen, lambda functions only return a **function object**.\n",
    "\n",
    "Instead of declaring a function with def, lambda functions are declared with lambda. Its syntax is:"
   ]
  },
  {
   "cell_type": "raw",
   "id": "f320263e-ec0b-45c0-a61f-3e740e65d532",
   "metadata": {},
   "source": [
    "lambda <parameters>: <expressiions for evaluating parameters>"
   ]
  },
  {
   "cell_type": "markdown",
   "id": "4246f716-a215-4de8-a4b1-fa0cfae6083c",
   "metadata": {},
   "source": [
    "An example is a function that displays Hello World several times."
   ]
  },
  {
   "cell_type": "code",
   "execution_count": 17,
   "id": "f7d811c6-315a-4a6d-9aa4-91f271bf98c2",
   "metadata": {},
   "outputs": [
    {
     "data": {
      "text/plain": [
       "'Hello, World! Hello, World! Hello, World! '"
      ]
     },
     "execution_count": 17,
     "metadata": {},
     "output_type": "execute_result"
    }
   ],
   "source": [
    "#classic function\n",
    "def displayrepeats(num):\n",
    "    return \"Hello, World! \" * num\n",
    "\n",
    "displayrepeats(3)"
   ]
  },
  {
   "cell_type": "code",
   "execution_count": 21,
   "id": "72f35e7b-071e-4184-a1f8-cdd96dd4f753",
   "metadata": {},
   "outputs": [
    {
     "name": "stdout",
     "output_type": "stream",
     "text": [
      "<function <lambda> at 0x7f63bc1d0d30>\n"
     ]
    }
   ],
   "source": [
    "#lambda function version\n",
    "num = 3\n",
    "print(lambda num: \"Hello, World! \" * num)\n",
    "# will give a function object than actual result."
   ]
  },
  {
   "cell_type": "markdown",
   "id": "5a1c9b1e-0a16-46be-980c-bda291df41e8",
   "metadata": {},
   "source": [
    "To display the lambda function's results, encase both the entire function as well as its input arguments in parenthesis.\n",
    "\n",
    "This makes lambda functions **IIFE** (Immediately invoked functions execution)."
   ]
  },
  {
   "cell_type": "code",
   "execution_count": 22,
   "id": "16c2dd15-dbe2-4ce5-bd01-ba0d02463e30",
   "metadata": {},
   "outputs": [
    {
     "data": {
      "text/plain": [
       "'Hello, World! Hello, World! Hello, World! '"
      ]
     },
     "execution_count": 22,
     "metadata": {},
     "output_type": "execute_result"
    }
   ],
   "source": [
    "(lambda num: \"Hello, World! \" * num)(3)"
   ]
  },
  {
   "cell_type": "code",
   "execution_count": 23,
   "id": "45ce5c96-ef05-42e1-a951-00e035c5b811",
   "metadata": {},
   "outputs": [
    {
     "data": {
      "text/plain": [
       "21"
      ]
     },
     "execution_count": 23,
     "metadata": {},
     "output_type": "execute_result"
    }
   ],
   "source": [
    "#classic function to add 3 numbers\n",
    "def sumofthree(x, y, z):\n",
    "    return x + y + z\n",
    "\n",
    "sumofthree(7, 5, 9)"
   ]
  },
  {
   "cell_type": "code",
   "execution_count": 26,
   "id": "8a75771d-324d-43df-a2b2-4ce03d21bf80",
   "metadata": {},
   "outputs": [
    {
     "data": {
      "text/plain": [
       "21"
      ]
     },
     "execution_count": 26,
     "metadata": {},
     "output_type": "execute_result"
    }
   ],
   "source": [
    "#lambda function equivalent\n",
    "\n",
    "(lambda x, y, z: x + y + z)(7, 5, 9)"
   ]
  },
  {
   "cell_type": "markdown",
   "id": "464db8ea-ec49-4b6d-97b6-5fe08a7570a9",
   "metadata": {},
   "source": [
    "The syntax for lambda function with **if-else statements** is the following:"
   ]
  },
  {
   "cell_type": "raw",
   "id": "37f167d5-3d88-447f-b889-51c2251055bf",
   "metadata": {},
   "source": [
    "lambda <parameters>:<expressionA><if(condition) else (expresssionB)"
   ]
  },
  {
   "cell_type": "markdown",
   "id": "e52257b3-0126-4cf9-b6c1-4fb8e47be2a9",
   "metadata": {},
   "source": [
    "If the number is even, say it's even. If the number is odd, say it's odd."
   ]
  },
  {
   "cell_type": "code",
   "execution_count": 35,
   "id": "00bc477d-12de-4f0c-b6ce-e4fd9b4084b9",
   "metadata": {},
   "outputs": [
    {
     "name": "stdout",
     "output_type": "stream",
     "text": [
      "Odd!\n"
     ]
    }
   ],
   "source": [
    "# classic function\n",
    "\n",
    "def evenorodd(number):\n",
    "    if number % 2 == 0:\n",
    "        print(\"Even!\")\n",
    "    else:\n",
    "        print(\"Odd!\")\n",
    "\n",
    "evenorodd(7)"
   ]
  },
  {
   "cell_type": "code",
   "execution_count": 37,
   "id": "a9cb2933-b8e5-4442-af76-cd49a40f5070",
   "metadata": {},
   "outputs": [
    {
     "name": "stdout",
     "output_type": "stream",
     "text": [
      "Odd!\n"
     ]
    }
   ],
   "source": [
    "# lambda equivalent\n",
    "lambda number: print(\"Even!\") if(number % 2 ==0) else (print(\"Odd!\"))\n",
    "\n",
    "# lambda with output display\n",
    "( lambda number: print(\"Even!\") if(number % 2 ==0) else (print(\"Odd!\")) ) (7)"
   ]
  },
  {
   "cell_type": "markdown",
   "id": "442c8491-7fd2-403c-8d7c-b7355f737d77",
   "metadata": {},
   "source": [
    "The **use case of lambda functions** is for short, simple functions needed temporarily without requiring re-use.\n",
    "\n",
    "Hence use it when:\n",
    "\n",
    " - Defining a one-time function with a def function.\n",
    " - When defining a function inside 3 built-in functions: filter() and map().\n",
    " - Refactor a def function that doesn't have to be explicit to be readable.\n",
    "\n",
    "Do not use it when:\n",
    "\n",
    " -  Defining a complex function that should be written in long form for readbility. (PEP8 Explicit better than implicit.)\n",
    " -  Defining a function with multiple elif statements and/or nesting."
   ]
  },
  {
   "cell_type": "markdown",
   "id": "0709120b-9700-45c1-a69c-a4b3deeee92f",
   "metadata": {},
   "source": [
    "## filter() with lambda"
   ]
  },
  {
   "cell_type": "markdown",
   "id": "39178321-f292-4c2b-a439-139c61e325b7",
   "metadata": {},
   "source": [
    "In python, filter() method selects elements from an iterable, based on whether a function evaluates them as true\n",
    "\n",
    "Its syntax is:"
   ]
  },
  {
   "cell_type": "raw",
   "id": "a98e55ca-4db1-4dac-b7ee-1d892c5777f4",
   "metadata": {},
   "source": [
    "filter(<function>, <iterable sequence>)"
   ]
  },
  {
   "cell_type": "markdown",
   "id": "af29dad0-27e8-4dfb-a959-c66891aa3c35",
   "metadata": {},
   "source": [
    "For the list, lst, filter the element that is even. "
   ]
  },
  {
   "cell_type": "code",
   "execution_count": 8,
   "id": "85cde19c-3a36-4b3e-9e7c-9254733903d5",
   "metadata": {},
   "outputs": [],
   "source": [
    "lst = [16, 43, 61, 32, 45, 77]"
   ]
  },
  {
   "cell_type": "code",
   "execution_count": 9,
   "id": "7f42afe2-6012-4962-891e-bbf2bfbf4c35",
   "metadata": {},
   "outputs": [
    {
     "name": "stdout",
     "output_type": "stream",
     "text": [
      "[16, 32]\n"
     ]
    }
   ],
   "source": [
    "# classic function\n",
    "\n",
    "def even(number):\n",
    "    if number % 2 == 0:\n",
    "        return True\n",
    "    else:\n",
    "        return False\n",
    "\n",
    "# filter returns function object\n",
    "# filter(even, lst)\n",
    "\n",
    "result = list(filter(even, lst))\n",
    "\n",
    "print(result)"
   ]
  },
  {
   "cell_type": "code",
   "execution_count": 14,
   "id": "3a9efcb5-f9a3-4b12-bd84-aa8c9aeeed3f",
   "metadata": {},
   "outputs": [
    {
     "name": "stdout",
     "output_type": "stream",
     "text": [
      "[16, 32]\n"
     ]
    }
   ],
   "source": [
    "# lambda function\n",
    "\n",
    "result = list( filter(lambda number: number % 2 == 0, lst) )\n",
    "\n",
    "print(result)"
   ]
  },
  {
   "cell_type": "markdown",
   "id": "e999e9e7-54f8-4b41-aa96-362c0163f7e9",
   "metadata": {},
   "source": [
    "## map() with lambda"
   ]
  },
  {
   "cell_type": "markdown",
   "id": "3740f0f4-540e-47cd-980a-9dd688a4bd24",
   "metadata": {},
   "source": [
    "Mapping in python is a technique of processing each element in an iterable, without using a for loop. This is done with the map() function which has the syntax below:"
   ]
  },
  {
   "cell_type": "raw",
   "id": "9e4b4292-983f-4017-8f18-7a7903fc6ab3",
   "metadata": {},
   "source": [
    "map(<function>, <iterable>"
   ]
  },
  {
   "cell_type": "markdown",
   "id": "0d47fcda-498c-447f-9d50-27b488b1ecf8",
   "metadata": {},
   "source": [
    "Take the following list, transform each element into a lower case letter."
   ]
  },
  {
   "cell_type": "code",
   "execution_count": 42,
   "id": "9f1b71de-589d-4337-a895-b0672d475d79",
   "metadata": {},
   "outputs": [],
   "source": [
    "lst = [\"H\", \"E\", \"L\", \"L\", \"O\"]"
   ]
  },
  {
   "cell_type": "code",
   "execution_count": 50,
   "id": "32942d5f-a47c-47be-a8dd-85a249e5f3d6",
   "metadata": {},
   "outputs": [
    {
     "data": {
      "text/plain": [
       "['h', 'e', 'l', 'l', 'o']"
      ]
     },
     "execution_count": 50,
     "metadata": {},
     "output_type": "execute_result"
    }
   ],
   "source": [
    "# Using a for loop takes 10 lines\n",
    "\n",
    "lowerlst = []\n",
    "\n",
    "def transform(lst):\n",
    "    for letter in lst:\n",
    "        lowerlst.append(letter.lower())\n",
    "    return lowerlst\n",
    "\n",
    "transform(lst)"
   ]
  },
  {
   "cell_type": "code",
   "execution_count": 51,
   "id": "8da6f2ba-43f1-4b8e-a34e-63b2b015892d",
   "metadata": {},
   "outputs": [
    {
     "name": "stdout",
     "output_type": "stream",
     "text": [
      "['h', 'e', 'l', 'l', 'o']\n"
     ]
    }
   ],
   "source": [
    "# Using map() results in a simpler function that only work on one letter but shorter code overall.\n",
    "def lowercase(x):\n",
    "    return x.lower()\n",
    "    \n",
    "lower = map(lowercase, lst)\n",
    "print(list(lower))"
   ]
  },
  {
   "cell_type": "code",
   "execution_count": 53,
   "id": "ce178d7f-9fd2-47b2-9e2c-4648a438087e",
   "metadata": {},
   "outputs": [
    {
     "name": "stdout",
     "output_type": "stream",
     "text": [
      "['h', 'e', 'l', 'l', 'o']\n"
     ]
    }
   ],
   "source": [
    "# Even shorter code by using lambda function\n",
    "\n",
    "lower = map(lambda x: x.lower(), lst)\n",
    "print(list(lower))"
   ]
  },
  {
   "cell_type": "markdown",
   "id": "2a9d2f9a-1adf-4ad3-ae67-3855ab39b62e",
   "metadata": {},
   "source": [
    "Notice that map() will only return a function object, so to display the result, convert lower into a list."
   ]
  },
  {
   "cell_type": "markdown",
   "id": "f63d4a8a-98dc-4a22-93f5-e0daa91a82d2",
   "metadata": {},
   "source": [
    "Refactor the following code that multiply each item in a list by 10. Using a combination of map function and lambda."
   ]
  },
  {
   "cell_type": "code",
   "execution_count": 57,
   "id": "2820d4f7-9a7f-4612-a23a-5aa2c66c7589",
   "metadata": {},
   "outputs": [
    {
     "data": {
      "text/plain": [
       "[30, 170, 190, 2230, 530]"
      ]
     },
     "execution_count": 57,
     "metadata": {},
     "output_type": "execute_result"
    }
   ],
   "source": [
    "lst = [3, 17, 19, 223, 53]\n",
    "\n",
    "multiple_of_10 = []\n",
    "\n",
    "def multiplyten():\n",
    "    for i in lst:\n",
    "        multiple_of_10.append(i * 10)\n",
    "    return multiple_of_10\n",
    "\n",
    "multiplyten()"
   ]
  },
  {
   "cell_type": "code",
   "execution_count": 59,
   "id": "97457d69-f04a-481b-9276-332b0508cca5",
   "metadata": {},
   "outputs": [
    {
     "name": "stdout",
     "output_type": "stream",
     "text": [
      "[30, 170, 190, 2230, 530]\n"
     ]
    }
   ],
   "source": [
    "# Refactored code\n",
    "multiten = map(lambda i: i*10, lst)\n",
    "print(list(multiten))"
   ]
  },
  {
   "cell_type": "markdown",
   "id": "45c37f55-fe9e-4ef4-8bb0-5018153556fc",
   "metadata": {},
   "source": [
    "## enumerate()"
   ]
  },
  {
   "cell_type": "markdown",
   "id": "9b5fbc51-282d-4aac-89c1-c913351a14af",
   "metadata": {},
   "source": [
    "An incrementing counter can be used to track the index of iterations in a for loop.\n",
    "\n",
    "For example, the following for loop calculates cubes from 1 to 10, a counter shows the corresponding element indices to the outputs."
   ]
  },
  {
   "cell_type": "code",
   "execution_count": 75,
   "id": "8df79d13-de1e-44cd-8590-01f77c351193",
   "metadata": {},
   "outputs": [
    {
     "name": "stdout",
     "output_type": "stream",
     "text": [
      "0 | 1\n",
      "1 | 8\n",
      "2 | 27\n",
      "3 | 64\n",
      "4 | 125\n",
      "5 | 216\n",
      "6 | 343\n",
      "7 | 512\n",
      "8 | 729\n",
      "9 | 1000\n"
     ]
    }
   ],
   "source": [
    "counter = 0\n",
    "for i in range(1, 11):\n",
    "    cube = i ** 3\n",
    "    print(counter, \"|\", cube)\n",
    "    counter += 1"
   ]
  },
  {
   "cell_type": "markdown",
   "id": "75682246-47dd-413f-9206-894d0a4c5fd0",
   "metadata": {},
   "source": [
    "However, a counter can be added with the built-in function, enumerate() instead.\n",
    "\n",
    "enumerate() returns a function object, which can be processed in loops or displayed as a tuple after converting the object into a list.\n",
    "\n",
    "The syntax for enumerate() is as follows:"
   ]
  },
  {
   "cell_type": "raw",
   "id": "49b2d4ac-25c5-4dd5-bbc4-759aba33c64e",
   "metadata": {},
   "source": [
    "enumerate(<iterable>, start=<n>)\n",
    "\n",
    "n is 0 by default."
   ]
  },
  {
   "cell_type": "code",
   "execution_count": 78,
   "id": "ad8ff90e-dc53-40db-a1d9-7d5ab7fb8b0d",
   "metadata": {},
   "outputs": [
    {
     "name": "stdout",
     "output_type": "stream",
     "text": [
      "<class 'enumerate'>\n"
     ]
    },
    {
     "data": {
      "text/plain": [
       "[(0, 1),\n",
       " (1, 2),\n",
       " (2, 3),\n",
       " (3, 4),\n",
       " (4, 5),\n",
       " (5, 6),\n",
       " (6, 7),\n",
       " (7, 8),\n",
       " (8, 9),\n",
       " (9, 10)]"
      ]
     },
     "execution_count": 78,
     "metadata": {},
     "output_type": "execute_result"
    }
   ],
   "source": [
    "lst = [1, 2, 3, 4, 5, 6, 7, 8, 9, 10]\n",
    "\n",
    "#enumerate function object\n",
    "lstobj = enumerate(lst)\n",
    "\n",
    "# enumerate returns a function object\n",
    "print(type(lstobj))\n",
    "\n",
    "# Convert enumerate function object to list so that it displays as tuple.\n",
    "list(lstobj)"
   ]
  },
  {
   "cell_type": "markdown",
   "id": "f9952076-3217-47b1-9191-8a082a534e12",
   "metadata": {},
   "source": [
    "Do the previous example of calculating cubes from 1 to 10, but using enumerate() to track the indice of outputs."
   ]
  },
  {
   "cell_type": "code",
   "execution_count": 93,
   "id": "1be2fb2d-5165-4113-af14-0d8809dbdacc",
   "metadata": {},
   "outputs": [
    {
     "name": "stdout",
     "output_type": "stream",
     "text": [
      "[(0, 1), (1, 8), (2, 27), (3, 64), (4, 125), (5, 216), (6, 343), (7, 512), (8, 729), (9, 1000)]\n"
     ]
    }
   ],
   "source": [
    "# Refactor the for loop with list comprehension.\n",
    "cubes = [ i**3 for i in range(1, 11) ]\n",
    "\n",
    "# Add indices to the new list of cubes with enumerate()\n",
    "indiced = list(enumerate(cubes))\n",
    "\n",
    "print(indiced)"
   ]
  },
  {
   "cell_type": "markdown",
   "id": "f3fb309b-1213-4a68-8efb-96cdb6511ed4",
   "metadata": {},
   "source": [
    "Enumerate can also enable access to iterable's items and index like a tuple. \n",
    "\n",
    "e.g. Suppose there were 5 people in the room and each person gets counted."
   ]
  },
  {
   "cell_type": "code",
   "execution_count": 95,
   "id": "d6679c7d-ed77-4e8f-b14a-f0e64c4d2e9b",
   "metadata": {},
   "outputs": [
    {
     "name": "stdout",
     "output_type": "stream",
     "text": [
      "0 Hannah\n",
      "1 Sam\n",
      "2 Mark\n",
      "3 Ruth\n",
      "4 Nolan\n"
     ]
    }
   ],
   "source": [
    "people = [\"Hannah\", \"Sam\", \"Mark\", \"Ruth\", \"Nolan\"]\n",
    "\n",
    "for count, person in enumerate(people):\n",
    "    print(count, person)"
   ]
  },
  {
   "cell_type": "markdown",
   "id": "7d14dbba-3fd7-4501-9c9b-efce1f1b7dee",
   "metadata": {},
   "source": [
    "## .join()"
   ]
  },
  {
   "cell_type": "markdown",
   "id": "314c82d8-eb84-4061-8f9f-7fafb6fdcaa6",
   "metadata": {},
   "source": [
    ".join() is an inbuilt method that connects elements of a sequence iterable by a user specified string separator. e.g.\n",
    "\n",
    "Its syntax is:"
   ]
  },
  {
   "cell_type": "raw",
   "id": "2da69384-ee12-44ed-a39e-df85f5b601f5",
   "metadata": {},
   "source": [
    "<separator>.join(<iterable>)"
   ]
  },
  {
   "cell_type": "markdown",
   "id": "04503220-cbde-4544-b888-f0e006206c94",
   "metadata": {},
   "source": [
    "Separate the characters in the phrase, Hello,World! with spaces."
   ]
  },
  {
   "cell_type": "code",
   "execution_count": 99,
   "id": "d3825719-16d9-48f5-8847-b6fffd03ccf1",
   "metadata": {},
   "outputs": [
    {
     "data": {
      "text/plain": [
       "'H e l l o , W o r l d !'"
      ]
     },
     "execution_count": 99,
     "metadata": {},
     "output_type": "execute_result"
    }
   ],
   "source": [
    "phrase = \"Hello,World!\"\n",
    "\n",
    "phrase = \" \".join(phrase)\n",
    "\n",
    "phrase"
   ]
  },
  {
   "cell_type": "markdown",
   "id": "df99e403-8690-451f-9d57-848b263e6855",
   "metadata": {},
   "source": [
    "Join all the string elements of a list together, separated by | "
   ]
  },
  {
   "cell_type": "code",
   "execution_count": 101,
   "id": "18446054-50aa-4ac2-9129-2df280d68294",
   "metadata": {},
   "outputs": [
    {
     "name": "stdout",
     "output_type": "stream",
     "text": [
      "Apple | Pencil | Sky\n"
     ]
    }
   ],
   "source": [
    "lst = [\"Apple\", \"Pencil\", \"Sky\"]\n",
    "\n",
    "output = \" | \".join(lst)\n",
    "print(output)"
   ]
  },
  {
   "cell_type": "code",
   "execution_count": null,
   "id": "dad281ad-c52b-4482-8aa7-e3d5b84af4ca",
   "metadata": {},
   "outputs": [],
   "source": []
  }
 ],
 "metadata": {
  "kernelspec": {
   "display_name": "cuda",
   "language": "python",
   "name": "myllmproject"
  },
  "language_info": {
   "codemirror_mode": {
    "name": "ipython",
    "version": 3
   },
   "file_extension": ".py",
   "mimetype": "text/x-python",
   "name": "python",
   "nbconvert_exporter": "python",
   "pygments_lexer": "ipython3",
   "version": "3.10.12"
  }
 },
 "nbformat": 4,
 "nbformat_minor": 5
}
