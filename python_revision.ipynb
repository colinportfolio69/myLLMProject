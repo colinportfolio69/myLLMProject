{
 "cells": [
  {
   "cell_type": "markdown",
   "id": "4f41aa15-5061-43d5-a106-5f59e445809e",
   "metadata": {},
   "source": [
    "# Basic revisions"
   ]
  },
  {
   "cell_type": "markdown",
   "id": "e502e60e-3139-4999-b9f4-7277d8b8d46e",
   "metadata": {},
   "source": [
    "## sorted()"
   ]
  },
  {
   "cell_type": "markdown",
   "id": "87393296-8166-404c-b86a-b1e5bd16c2e5",
   "metadata": {},
   "source": [
    "In python, **sorted()** function returns an iterable element back as an ordered **list**.\n",
    "\n",
    "For strings, its defualt effect is to sort alphabetically.\n",
    "\n",
    "Remember that in python, **set only contains unique elements**, which suits the purpose of counting unique characters in a book nicely."
   ]
  },
  {
   "cell_type": "code",
   "execution_count": 3,
   "id": "c814b689-be6f-46a2-9185-4caecb6e7372",
   "metadata": {},
   "outputs": [
    {
     "data": {
      "text/plain": [
       "['a', 'b', 'c']"
      ]
     },
     "execution_count": 3,
     "metadata": {},
     "output_type": "execute_result"
    }
   ],
   "source": [
    "string = \"cba\"\n",
    "\n",
    "sorted(string)"
   ]
  },
  {
   "cell_type": "markdown",
   "id": "b4feaa85-6530-432f-bca8-d1a1324c9d60",
   "metadata": {},
   "source": [
    "## set()"
   ]
  },
  {
   "cell_type": "markdown",
   "id": "b5a864e3-7e7b-4692-a537-387332886e40",
   "metadata": {},
   "source": [
    "The **set()** function creates a set object from iterable elements. \n",
    "\n",
    "If the iterable happens to be a string, a set of the individual characters will be created.\n",
    "\n",
    "Notice that set() will not alphabetically order the result, nor retain duplicates elements."
   ]
  },
  {
   "cell_type": "code",
   "execution_count": 40,
   "id": "d295895f-2f3f-4c5c-abbe-0c2a05305ac8",
   "metadata": {},
   "outputs": [
    {
     "data": {
      "text/plain": [
       "{'a', 'e', 'l', 'p'}"
      ]
     },
     "execution_count": 40,
     "metadata": {},
     "output_type": "execute_result"
    }
   ],
   "source": [
    "set(\"apple\")"
   ]
  },
  {
   "cell_type": "markdown",
   "id": "6416abb2-9e37-44f8-99eb-6f5dc083e4c9",
   "metadata": {},
   "source": [
    "## zip()"
   ]
  },
  {
   "cell_type": "markdown",
   "id": "39b0f8be-1c7e-4d6a-ad28-59574a6b4644",
   "metadata": {},
   "source": [
    "The zip() function in python can combine 2 lists into a zip object. \n",
    "\n",
    "Elements from corresponding positions are then paired together. Hence this trick works when both lists are equal in length.\n",
    "\n",
    "zip() can also work on other iterables than lists."
   ]
  },
  {
   "cell_type": "code",
   "execution_count": 10,
   "id": "13886637-19d8-454b-aaaf-08da9bc933ab",
   "metadata": {},
   "outputs": [
    {
     "name": "stdout",
     "output_type": "stream",
     "text": [
      "<class 'zip'>\n"
     ]
    }
   ],
   "source": [
    "listA = [1, 2, 3]\n",
    "listB = [\"a\", \"b\", \"c\"]\n",
    "\n",
    "# Zip object\n",
    "zipC = zip(listA, listB)\n",
    "print(type(zipC))"
   ]
  },
  {
   "cell_type": "markdown",
   "id": "59a609d2-4aac-40f5-9b6f-da81663c389a",
   "metadata": {},
   "source": [
    "Zip objects can be displayed visibly after converting into a tuple."
   ]
  },
  {
   "cell_type": "code",
   "execution_count": 11,
   "id": "d353abd8-8b26-4e34-9883-15f36403ee1d",
   "metadata": {},
   "outputs": [
    {
     "data": {
      "text/plain": [
       "((1, 'a'), (2, 'b'), (3, 'c'))"
      ]
     },
     "execution_count": 11,
     "metadata": {},
     "output_type": "execute_result"
    }
   ],
   "source": [
    "tuple(zipC)"
   ]
  },
  {
   "cell_type": "markdown",
   "id": "bfd66c59-c791-4be0-bb66-8c3b69e85bea",
   "metadata": {},
   "source": [
    "### .items()"
   ]
  },
  {
   "cell_type": "markdown",
   "id": "8591af97-85a7-46cf-a7ba-65da487f256f",
   "metadata": {},
   "source": [
    ".items() method returns all key value pairs from dictionary."
   ]
  },
  {
   "cell_type": "code",
   "execution_count": 51,
   "id": "11ee9a77-aeb8-4c6b-ba0a-0609df73db52",
   "metadata": {},
   "outputs": [
    {
     "data": {
      "text/plain": [
       "dict_items([('mocha', 2), ('cappucino', 3)])"
      ]
     },
     "execution_count": 51,
     "metadata": {},
     "output_type": "execute_result"
    }
   ],
   "source": [
    "coffeedict = {\n",
    "    \"mocha\":2,\n",
    "    \"cappucino\":3\n",
    "}\n",
    "\n",
    "# To return all the key values from dictionary.\n",
    "coffeedict.items()"
   ]
  },
  {
   "cell_type": "markdown",
   "id": "1eaeed56-c438-4bb9-ba73-40ee9abfb6f7",
   "metadata": {},
   "source": [
    "## List comprehension"
   ]
  },
  {
   "cell_type": "markdown",
   "id": "fa2b119d-b2fb-4707-9c42-42510f06d6b8",
   "metadata": {},
   "source": [
    "List comprehensions shortens the syntax for for loops. Its 2 common applications being:\n",
    "\n",
    " - Create a new list from existing list.\n",
    " - Create a sublist from existing lists, where elements satisfy a certain condition."
   ]
  },
  {
   "cell_type": "code",
   "execution_count": 6,
   "id": "60e58ad7-f0ca-4f54-886b-3e7e0f282a97",
   "metadata": {},
   "outputs": [
    {
     "name": "stdout",
     "output_type": "stream",
     "text": [
      "[1, 4, 9, 16, 25]\n"
     ]
    }
   ],
   "source": [
    "# classic for loop\n",
    "\n",
    "squares = []\n",
    "\n",
    "# Create a list of square numbers from a list of 1-5.\n",
    "for number in range(1, 6):\n",
    "    squares.append(number**2)\n",
    "\n",
    "print(squares)"
   ]
  },
  {
   "cell_type": "markdown",
   "id": "90caf796-fd95-4796-acca-b91cedab08cd",
   "metadata": {},
   "source": [
    "The syntax for list comprehension in python is the following:"
   ]
  },
  {
   "cell_type": "raw",
   "id": "90d613f6-55ae-4777-abeb-2a9854d04ba8",
   "metadata": {},
   "source": [
    "<newList> = [ (expression) for <item> in <iterable> if >expression == True>]"
   ]
  },
  {
   "cell_type": "code",
   "execution_count": 10,
   "id": "3e79f65a-53dd-49dc-8607-e863a5d94765",
   "metadata": {},
   "outputs": [
    {
     "name": "stdout",
     "output_type": "stream",
     "text": [
      "[1, 4, 9, 16, 25]\n"
     ]
    }
   ],
   "source": [
    "# same for loop shortened by comprehension\n",
    "\n",
    "square_numbers = [(number**2) for number in range(1, 6)]\n",
    "\n",
    "print(square_numbers)"
   ]
  },
  {
   "cell_type": "markdown",
   "id": "a6a2023d-770a-437b-b54f-a43f28a69121",
   "metadata": {},
   "source": [
    "Comprehensions also provides a shorthand for adding a conditional to a for loop. Much like the 'WHERE' clause in SQL. "
   ]
  },
  {
   "cell_type": "code",
   "execution_count": 12,
   "id": "2dfe09f2-df8b-49ca-9666-d183adfa4090",
   "metadata": {},
   "outputs": [
    {
     "name": "stdout",
     "output_type": "stream",
     "text": [
      "[1, 3, 5, 7, 9]\n"
     ]
    }
   ],
   "source": [
    "# For a list of numbers in the ranges of 1-10, compile a list of odd numbers only.\n",
    "\n",
    "selection = [1, 2, 3, 4, 5, 6, 7, 8, 9, 10]\n",
    "odd = []\n",
    "\n",
    "for number in selection:\n",
    "    if number % 2 != 0:\n",
    "        odd.append(number)\n",
    "\n",
    "print(odd)"
   ]
  },
  {
   "cell_type": "code",
   "execution_count": 18,
   "id": "12a5427c-8a8d-451d-8f8d-bb0a28b85d0e",
   "metadata": {},
   "outputs": [
    {
     "name": "stdout",
     "output_type": "stream",
     "text": [
      "[1, 3, 5, 7, 9]\n"
     ]
    }
   ],
   "source": [
    "# Refactor the above code using list comprehension.\n",
    "\n",
    "odd_numbers = [number for number in selection if number % 2 != 0]\n",
    "\n",
    "print(odd)"
   ]
  },
  {
   "cell_type": "code",
   "execution_count": 19,
   "id": "be116f6f-a9db-41f0-ae28-093903b3995d",
   "metadata": {},
   "outputs": [
    {
     "name": "stdout",
     "output_type": "stream",
     "text": [
      "[50, 60, 70, 80, 110]\n"
     ]
    }
   ],
   "source": [
    "lst1 = [44, 54, 64, 74, 104]\n",
    "\n",
    "# Create list 2 by adding 6 to each element from list 1.\n",
    "\n",
    "lst2 = []\n",
    "for i in lst1:\n",
    "    lst2.append(i + 6)\n",
    "\n",
    "print(lst2)"
   ]
  },
  {
   "cell_type": "code",
   "execution_count": 21,
   "id": "c93fab41-026e-46ef-88db-8a6a17460d8d",
   "metadata": {},
   "outputs": [
    {
     "name": "stdout",
     "output_type": "stream",
     "text": [
      "[50, 60, 70, 80, 110]\n"
     ]
    }
   ],
   "source": [
    "# Refactor with comprehension\n",
    "\n",
    "lstII = [ number + 6 for number in lst1]\n",
    "print(lstII)"
   ]
  },
  {
   "cell_type": "markdown",
   "id": "53d03d9e-e039-43de-9e96-28796cb1a3c4",
   "metadata": {},
   "source": [
    "## Dictionary comprehension"
   ]
  },
  {
   "cell_type": "markdown",
   "id": "c9934fa6-674a-4c3e-9f36-e50bc6910271",
   "metadata": {},
   "source": [
    "Comprehension also works on dictionaries because they're iterables too. The 2 common applications are also:\n",
    "\n",
    " - Create a new dictionary from existing iterables.\n",
    " - Create a subset of a dictionary where elements meet existing conditions."
   ]
  },
  {
   "cell_type": "markdown",
   "id": "9424e270-5456-4892-835a-921646d6d07a",
   "metadata": {},
   "source": [
    "The syntax for creating a new dictionary from existing iterables is as follows."
   ]
  },
  {
   "cell_type": "raw",
   "id": "6b9f0876-e47a-4750-929e-71aeed22dd91",
   "metadata": {},
   "source": [
    "newDict = { <newKey>:<new_value> for <item> in <iterable> }"
   ]
  },
  {
   "cell_type": "markdown",
   "id": "2dd8a0bc-94af-4dbb-be9f-32866e5a4fac",
   "metadata": {},
   "source": [
    "The syntax for creating a subset of a existing dictionary, where elements meet existing conditions is as follows:"
   ]
  },
  {
   "cell_type": "raw",
   "id": "74af2d17-5fbe-42ae-9eb2-98897fee78d5",
   "metadata": {},
   "source": [
    "subDict = { <newkey>:<oldkey> for (key, value) in <dict>.items() if <conditions> }"
   ]
  },
  {
   "cell_type": "markdown",
   "id": "ef4d252d-183f-41c6-a70e-d8a21892ac6a",
   "metadata": {},
   "source": [
    "Create a dictionary where the day of the week is the key, its recorded temperature is the value."
   ]
  },
  {
   "cell_type": "code",
   "execution_count": 23,
   "id": "05b59f7d-690e-4e40-82d1-7f99e27e0db6",
   "metadata": {},
   "outputs": [],
   "source": [
    "days = [\"Monday\", \"Tuesday\", \"Wednesday\", \"Thursday\", \"Friday\"]\n",
    "\n",
    "recotemp = [21, 22, 21, 19, 22]"
   ]
  },
  {
   "cell_type": "code",
   "execution_count": 25,
   "id": "f7e52185-59e7-4b2b-8323-9301bcdacc63",
   "metadata": {},
   "outputs": [
    {
     "name": "stdout",
     "output_type": "stream",
     "text": [
      "{'Monday': 21, 'Tuesday': 22, 'Wednesday': 21, 'Thursday': 19, 'Friday': 22}\n"
     ]
    }
   ],
   "source": [
    "# Using zip to create a tuple, then convert tuple into dictionary.\n",
    "\n",
    "weektemp = zip(days, recotemp)\n",
    "\n",
    "weektemp = dict(weektemp)\n",
    "\n",
    "print(weektemp)"
   ]
  },
  {
   "cell_type": "code",
   "execution_count": 27,
   "id": "bad00d88-15d6-4d46-a3d8-c3302566939d",
   "metadata": {},
   "outputs": [
    {
     "name": "stdout",
     "output_type": "stream",
     "text": [
      "{'Monday': 21, 'Tuesday': 22, 'Wednesday': 21, 'Thursday': 19, 'Friday': 22}\n"
     ]
    }
   ],
   "source": [
    "# Refactor above into a single line of code with comprehensions\n",
    "\n",
    "temp_of_week = { day:temp for (day,temp) in zip(days, recotemp) }\n",
    "\n",
    "print(temp_of_week)"
   ]
  },
  {
   "cell_type": "markdown",
   "id": "c93e789d-d0ba-45fd-8725-85349c0eeca2",
   "metadata": {},
   "source": [
    "There are 3 people in a room. Each person rolls a dice and gets a score between 1-6. Create a dictionary based on this."
   ]
  },
  {
   "cell_type": "code",
   "execution_count": 47,
   "id": "5f9083f4-19e9-44e5-ba7a-2ba6dbe865f6",
   "metadata": {},
   "outputs": [
    {
     "name": "stdout",
     "output_type": "stream",
     "text": [
      "{'Alice': 6, 'Bob': 4, 'Carole': 1}\n"
     ]
    }
   ],
   "source": [
    "from random import randint\n",
    "\n",
    "people = [\"Alice\", \"Bob\", \"Carole\"]\n",
    "\n",
    "assignment = {}\n",
    "for person in people:\n",
    "    # Remember that the last element is not excluded with randint function!\n",
    "    assignment[person] = dice\n",
    "\n",
    "print(assignment)"
   ]
  },
  {
   "cell_type": "code",
   "execution_count": 48,
   "id": "9a93178f-a112-4a20-b51f-1854d93de45d",
   "metadata": {},
   "outputs": [
    {
     "name": "stdout",
     "output_type": "stream",
     "text": [
      "{'Alice': 1, 'Bob': 2, 'Carole': 5}\n"
     ]
    }
   ],
   "source": [
    "# Refactor the above using comprehension.\n",
    "\n",
    "assign = { person:rd(1,6) for person in people }\n",
    "print(assign)"
   ]
  },
  {
   "cell_type": "markdown",
   "id": "270c2bfb-a371-4e60-9ef0-9c5f83ac017f",
   "metadata": {},
   "source": [
    "There is a queue of people for a rollercoaster ride. The legal age limit for the ride is 15. Create a subset dictionary that excludes underaged people."
   ]
  },
  {
   "cell_type": "code",
   "execution_count": 52,
   "id": "792f9871-edcc-4d7a-a815-411a8ebf6e82",
   "metadata": {},
   "outputs": [
    {
     "name": "stdout",
     "output_type": "stream",
     "text": [
      "{'Hannah': 19, 'Beth': 21, 'Josh': 17}\n"
     ]
    }
   ],
   "source": [
    "queue = {\n",
    "    \"Hannah\":19,\n",
    "    \"Beth\": 21,\n",
    "    \"Josh\": 17,\n",
    "    \"Sam\": 6,\n",
    "    \"Kyouko\": 14\n",
    "}\n",
    "\n",
    "# classic for loop\n",
    "\n",
    "legal_queue = {}\n",
    "age_limit = 15\n",
    "\n",
    "for key, value in queue.items():\n",
    "    if value >= age_limit:\n",
    "        legal_queue[key] = value\n",
    "\n",
    "print(legal_queue)"
   ]
  },
  {
   "cell_type": "code",
   "execution_count": 53,
   "id": "29f92db3-0eb2-49a7-9147-5ced497f2db6",
   "metadata": {},
   "outputs": [
    {
     "name": "stdout",
     "output_type": "stream",
     "text": [
      "{'Hannah': 19, 'Beth': 21, 'Josh': 17}\n"
     ]
    }
   ],
   "source": [
    "# Refactor with comprehension\n",
    "\n",
    "legalQueue = { person:age for (person, age) in queue.items() if age >= 15 }\n",
    "print(legalQueue)"
   ]
  },
  {
   "cell_type": "markdown",
   "id": "fe20d75d-970c-4475-90ce-2e768aeed283",
   "metadata": {},
   "source": [
    "## Lambda functions"
   ]
  },
  {
   "cell_type": "code",
   "execution_count": null,
   "id": "ca86cf31-ceee-43b8-a2ec-b63d1e7d83a8",
   "metadata": {},
   "outputs": [],
   "source": []
  },
  {
   "cell_type": "markdown",
   "id": "45c37f55-fe9e-4ef4-8bb0-5018153556fc",
   "metadata": {},
   "source": [
    "## enumerate keyword"
   ]
  },
  {
   "cell_type": "markdown",
   "id": "7d14dbba-3fd7-4501-9c9b-efce1f1b7dee",
   "metadata": {},
   "source": [
    "## .join()"
   ]
  },
  {
   "cell_type": "code",
   "execution_count": null,
   "id": "84b3ef6c-92e3-476a-bc21-c05616e253e9",
   "metadata": {},
   "outputs": [],
   "source": []
  }
 ],
 "metadata": {
  "kernelspec": {
   "display_name": "cuda",
   "language": "python",
   "name": "myllmproject"
  },
  "language_info": {
   "codemirror_mode": {
    "name": "ipython",
    "version": 3
   },
   "file_extension": ".py",
   "mimetype": "text/x-python",
   "name": "python",
   "nbconvert_exporter": "python",
   "pygments_lexer": "ipython3",
   "version": "3.10.12"
  }
 },
 "nbformat": 4,
 "nbformat_minor": 5
}
